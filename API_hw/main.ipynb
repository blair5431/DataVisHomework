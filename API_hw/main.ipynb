{
 "cells": [
  {
   "cell_type": "code",
   "execution_count": 1,
   "metadata": {
    "collapsed": true
   },
   "outputs": [],
   "source": [
    "# Dependencies\n",
    "import numpy as np\n",
    "import pandas as pd\n",
    "import matplotlib.pyplot as plt\n",
    "import requests\n",
    "import time\n",
    "import json\n",
    "import openweathermapy.core as owm\n",
    "from citipy import citipy\n",
    "from random import uniform\n",
    "\n",
    "# Google Places API Key from config\n",
    "from config import key"
   ]
  },
  {
   "cell_type": "code",
   "execution_count": 2,
   "metadata": {
    "collapsed": true
   },
   "outputs": [],
   "source": [
    "#collect 500+ cities across the world of varying distance from the equator\n",
    "#Perform a weather check on each of the cities using a series of successive API calls.\n",
    "#Include a print log of each city as it's being processed with the city number, city name, and requested URL.\n",
    "#Get Temp Latitude, humidity,cloudiness, wind speed (mph) from api\n",
    "#Create scatter plots"
   ]
  },
  {
   "cell_type": "code",
   "execution_count": 3,
   "metadata": {},
   "outputs": [
    {
     "data": {
      "text/plain": [
       "'takoradi'"
      ]
     },
     "execution_count": 3,
     "metadata": {},
     "output_type": "execute_result"
    }
   ],
   "source": [
    "#create random list of lat and long\n",
    "#use citipy to find the nearest city to lat and long\n",
    "#get api for each city from open weather mapy\n",
    "city = citipy.nearest_city(0.00, 0.00)\n",
    "city\n",
    "city.city_name"
   ]
  },
  {
   "cell_type": "code",
   "execution_count": 27,
   "metadata": {},
   "outputs": [
    {
     "name": "stdout",
     "output_type": "stream",
     "text": [
      "1 port elizabeth\n",
      "1\n",
      "2 bredasdorp\n",
      "2\n",
      "3 ushuaia\n",
      "3\n",
      "4 dikson\n",
      "4\n",
      "5 ushuaia\n",
      "5\n",
      "6 ushuaia\n",
      "6\n",
      "7 epe\n",
      "7\n",
      "8 bredasdorp\n",
      "8\n",
      "9 warah\n",
      "9\n",
      "[1.8, 16.75, 6, -21.3, 6, 6, 5.39, 16.75, 7.95]\n",
      "[55, 100, 75, 89, 75, 75, 100, 100, 62]\n",
      "[1, 92, 20, 32, 20, 20, 75, 92, 0]\n",
      "[4.1, 2.51, 2.6, 7.31, 2.6, 2.6, 2.1, 2.51, 0.81]\n"
     ]
    }
   ],
   "source": [
    "lat=[]\n",
    "long=[]\n",
    "city_name=[]\n",
    "city_counter = 0\n",
    "temp = []\n",
    "latitude =[]\n",
    "humidity =[]\n",
    "cloudiness = []\n",
    "wind_speed = []\n",
    "\n",
    "#cities_pd[\"temp\"] = \"\"\n",
    "#creatins a random lat and lon\n",
    "x, y = uniform(-180,180), uniform(-90, 90)\n",
    "y\n",
    "\n",
    "#collect 500+ cities across the world of varying distance from the equator\n",
    "data_range = np.arange(1,100,1)\n",
    "data_range\n",
    "\n",
    "# Create settings dictionary with information we're interested in\n",
    "settings = {\"units\": \"metric\", \"appid\": key}\n",
    "\n",
    "#\n",
    "\n",
    "for data in data_range:\n",
    "    \n",
    "    #counting the number of selected cities\n",
    "    city_counter = city_counter + 1\n",
    "    #creating random list of lat\n",
    "    x = uniform(-180,180)\n",
    "    \n",
    "    #creaing random list of long\n",
    "    y = uniform(-90, 90)\n",
    "    \n",
    "    #finding nearest city to the random corrdinate\n",
    "    city = citipy.nearest_city(x, y)\n",
    "    \n",
    "    #finding the city name from nearest city from above \n",
    "    city_name=city.city_name\n",
    "    \n",
    "    lat.append(x)\n",
    "    long.append(y)\n",
    "    #city_name.append(city_name)\n",
    "    \n",
    "    \n",
    "    #api for current weather for selected random city\n",
    "    current_weather = owm.get_current(city_name, **settings)\n",
    "    \n",
    "    try:\n",
    "        current_weather = owm.get_current(city_name, **settings) \n",
    "    except HTTPError:\n",
    "        print(\"not city data\")\n",
    "        \n",
    "    #print(current_weather)\n",
    "    print(str(city_counter) +\" \" +str(city_name))\n",
    "    #print(city_counter)\n",
    "    \n",
    "    #getting temp,latitute,humdity,cloudiness, wind spped\n",
    "    temp.append(current_weather[\"main\"][\"temp\"])\n",
    "    humidity.append(current_weather[\"main\"][\"humidity\"])\n",
    "    cloudiness.append(current_weather[\"clouds\"][\"all\"])\n",
    "    wind_speed.append(current_weather[\"wind\"][\"speed\"])\n",
    "    latitude.append(current_weather[\"coord\"][\"lat\"])\n",
    "    \n",
    "    #cities_pd.set_value(index,\"temp\",)\n",
    "    \n",
    "    \n",
    "    #summary = [\"name\", \"main.temp\"]\n",
    "    #data = current_weather(*summary)\n",
    "    print(data)\n",
    "    \n",
    "print(temp)\n",
    "print(humidity)\n",
    "print(cloudiness)\n",
    "print(wind_speed)                                              "
   ]
  },
  {
   "cell_type": "code",
   "execution_count": 22,
   "metadata": {},
   "outputs": [
    {
     "name": "stdout",
     "output_type": "stream",
     "text": [
      "{\n",
      "    \"base\": \"stations\",\n",
      "    \"clouds\": {\n",
      "        \"all\": 32\n",
      "    },\n",
      "    \"cod\": 200,\n",
      "    \"coord\": {\n",
      "        \"lat\": 58.5,\n",
      "        \"lon\": 39.12\n",
      "    },\n",
      "    \"dt\": 1520652036,\n",
      "    \"id\": 506029,\n",
      "    \"main\": {\n",
      "        \"grnd_level\": 1015,\n",
      "        \"humidity\": 62,\n",
      "        \"pressure\": 1015,\n",
      "        \"sea_level\": 1036.49,\n",
      "        \"temp\": -15.4,\n",
      "        \"temp_max\": -15.4,\n",
      "        \"temp_min\": -15.4\n",
      "    },\n",
      "    \"name\": \"Poshekhonye\",\n",
      "    \"sys\": {\n",
      "        \"country\": \"RU\",\n",
      "        \"message\": 0.0079,\n",
      "        \"sunrise\": 1520654053,\n",
      "        \"sunset\": 1520694872\n",
      "    },\n",
      "    \"weather\": [\n",
      "        {\n",
      "            \"description\": \"scattered clouds\",\n",
      "            \"icon\": \"03n\",\n",
      "            \"id\": 802,\n",
      "            \"main\": \"Clouds\"\n",
      "        }\n",
      "    ],\n",
      "    \"wind\": {\n",
      "        \"deg\": 126.504,\n",
      "        \"speed\": 4.56\n",
      "    }\n",
      "}\n"
     ]
    }
   ],
   "source": [
    "print(json.dumps(current_weather, indent=4, sort_keys=True))"
   ]
  },
  {
   "cell_type": "code",
   "execution_count": 23,
   "metadata": {},
   "outputs": [
    {
     "data": {
      "text/plain": [
       "4.56"
      ]
     },
     "execution_count": 23,
     "metadata": {},
     "output_type": "execute_result"
    }
   ],
   "source": [
    "temp_test=current_weather[\"wind\"][\"speed\"]\n",
    "temp_test\n"
   ]
  },
  {
   "cell_type": "code",
   "execution_count": null,
   "metadata": {
    "collapsed": true
   },
   "outputs": [],
   "source": []
  },
  {
   "cell_type": "code",
   "execution_count": 28,
   "metadata": {},
   "outputs": [
    {
     "data": {
      "text/plain": [
       "{'Temperature': [1.8, 16.75, 6, -21.3, 6, 6, 5.39, 16.75, 7.95],\n",
       " 'cloudiness': [1, 92, 20, 32, 20, 20, 75, 92, 0],\n",
       " 'humidity': [55, 100, 75, 89, 75, 75, 100, 100, 62],\n",
       " 'latitude': [39.31,\n",
       "  -34.53,\n",
       "  -54.81,\n",
       "  73.51,\n",
       "  -54.81,\n",
       "  -54.81,\n",
       "  52.18,\n",
       "  -34.53,\n",
       "  13.4],\n",
       " 'wind speed': [4.1, 2.51, 2.6, 7.31, 2.6, 2.6, 2.1, 2.51, 0.81]}"
      ]
     },
     "execution_count": 28,
     "metadata": {},
     "output_type": "execute_result"
    }
   ],
   "source": [
    "# create dataframe with data from all the cities\n",
    "weather_dict = {\n",
    "    \"Temperature\": temp,\n",
    "    \"humidity\": humidity,\n",
    "    \"latitude\": latitude,\n",
    "    \"cloudiness\":cloudiness,\n",
    "    \"wind speed\":wind_speed\n",
    "} \n",
    "weather_dict"
   ]
  },
  {
   "cell_type": "code",
   "execution_count": 30,
   "metadata": {},
   "outputs": [
    {
     "data": {
      "image/png": "[encoded data removed]",
      "text/plain": [
       "<matplotlib.figure.Figure at 0x11812d8d0>"
      ]
     },
     "metadata": {},
     "output_type": "display_data"
    }
   ],
   "source": [
    "# Build a scatter plot for Temperature vs Latitude \n",
    "plt.scatter(weather_dict[\"Temperature\"], weather_dict[\"latitude\"], marker=\"o\")\n",
    "\n",
    "# Incorporate the other graph properties\n",
    "plt.title(\"Temperature vs Latitude\")\n",
    "plt.ylabel(\"Latitude\")\n",
    "plt.xlabel(\"Temperature\")\n",
    "plt.grid(True)\n",
    "\n",
    "# Save the figure\n",
    "#plt.savefig(\"TemperatureInWorldCities.png\")\n",
    "\n",
    "# Show plot\n",
    "plt.show()"
   ]
  },
  {
   "cell_type": "code",
   "execution_count": 31,
   "metadata": {},
   "outputs": [
    {
     "data": {
      "image/png": "[encoded data removed]",
      "text/plain": [
       "<matplotlib.figure.Figure at 0x118124278>"
      ]
     },
     "metadata": {},
     "output_type": "display_data"
    }
   ],
   "source": [
    "# Build a scatter plot for Humidity vs Latitude \n",
    "plt.scatter(weather_dict[\"humidity\"], weather_dict[\"latitude\"], marker=\"o\")\n",
    "\n",
    "# Incorporate the other graph properties\n",
    "plt.title(\"Humidity vs Latitude\")\n",
    "plt.ylabel(\"Latitude\")\n",
    "plt.xlabel(\"Humidity\")\n",
    "plt.grid(True)\n",
    "\n",
    "# Save the figure\n",
    "#plt.savefig(\"TemperatureInWorldCities.png\")\n",
    "\n",
    "# Show plot\n",
    "plt.show()"
   ]
  },
  {
   "cell_type": "code",
   "execution_count": 33,
   "metadata": {},
   "outputs": [
    {
     "data": {
      "image/png": "[encoded data removed]",
      "text/plain": [
       "<matplotlib.figure.Figure at 0x10f17dac8>"
      ]
     },
     "metadata": {},
     "output_type": "display_data"
    }
   ],
   "source": [
    "# Build a scatter plot for Cloudiness vs Latitude \n",
    "plt.scatter(weather_dict[\"cloudiness\"], weather_dict[\"latitude\"], marker=\"o\")\n",
    "\n",
    "# Incorporate the other graph properties\n",
    "plt.title(\"Cloudiness vs Latitude\")\n",
    "plt.ylabel(\"Latitude\")\n",
    "plt.xlabel(\"Cloudiness\")\n",
    "plt.grid(True)\n",
    "\n",
    "# Save the figure\n",
    "#plt.savefig(\"TemperatureInWorldCities.png\")\n",
    "\n",
    "# Show plot\n",
    "plt.show()"
   ]
  },
  {
   "cell_type": "code",
   "execution_count": 35,
   "metadata": {},
   "outputs": [
    {
     "data": {
      "image/png": "[encoded data removed]",
      "text/plain": [
       "<matplotlib.figure.Figure at 0x10f1b0b00>"
      ]
     },
     "metadata": {},
     "output_type": "display_data"
    }
   ],
   "source": [
    "# Build a scatter plot for Cloudiness vs Latitude \n",
    "plt.scatter(weather_dict[\"wind speed\"], weather_dict[\"latitude\"], marker=\"o\")\n",
    "\n",
    "# Incorporate the other graph properties\n",
    "plt.title(\"Wind Speed vs Latitude\")\n",
    "plt.ylabel(\"Latitude\")\n",
    "plt.xlabel(\"Wind Speed\")\n",
    "plt.grid(True)\n",
    "\n",
    "# Save the figure\n",
    "#plt.savefig(\"TemperatureInWorldCities.png\")\n",
    "\n",
    "# Show plot\n",
    "plt.show()"
   ]
  },
  {
   "cell_type": "code",
   "execution_count": null,
   "metadata": {
    "collapsed": true
   },
   "outputs": [],
   "source": [
    "#questions:\n",
    "#1.How to ensure that I am not getting the same city more than once?\n",
    "#2.How to print url while using wrapper?"
   ]
  }
 ],
 "metadata": {
  "kernelspec": {
   "display_name": "Python 3",
   "language": "python",
   "name": "python3"
  },
  "language_info": {
   "codemirror_mode": {
    "name": "ipython",
    "version": 3
   },
   "file_extension": ".py",
   "mimetype": "text/x-python",
   "name": "python",
   "nbconvert_exporter": "python",
   "pygments_lexer": "ipython3",
   "version": "3.6.3"
  }
 },
 "nbformat": 4,
 "nbformat_minor": 2
}
