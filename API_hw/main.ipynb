{
 "cells": [
  {
   "cell_type": "code",
   "execution_count": 25,
   "metadata": {
    "collapsed": true
   },
   "outputs": [],
   "source": [
    "# Dependencies\n",
    "import numpy as np\n",
    "import pandas as pd\n",
    "import matplotlib.pyplot as plt\n",
    "import requests\n",
    "import time\n",
    "import json\n",
    "import openweathermapy.core as owm\n",
    "from citipy import citipy\n",
    "from random import uniform\n",
    "\n",
    "# Google Places API Key from config\n",
    "from config import key"
   ]
  },
  {
   "cell_type": "code",
   "execution_count": 26,
   "metadata": {
    "collapsed": true
   },
   "outputs": [],
   "source": [
    "#collect 500+ cities across the world of varying distance from the equator\n",
    "#Perform a weather check on each of the cities using a series of successive API calls.\n",
    "#Include a print log of each city as it's being processed with the city number, city name, and requested URL.\n",
    "#Get Temp Latitude, humidity,cloudiness, wind speed (mph) from api\n",
    "#Create scatter plots"
   ]
  },
  {
   "cell_type": "code",
   "execution_count": 27,
   "metadata": {},
   "outputs": [
    {
     "data": {
      "text/plain": [
       "'takoradi'"
      ]
     },
     "execution_count": 27,
     "metadata": {},
     "output_type": "execute_result"
    }
   ],
   "source": [
    "#create random list of lat and long\n",
    "#use citipy to find the nearest city to lat and long\n",
    "#get api for each city from open weather mapy\n",
    "city = citipy.nearest_city(0.00, 0.00)\n",
    "city\n",
    "city.city_name"
   ]
  },
  {
   "cell_type": "code",
   "execution_count": 34,
   "metadata": {},
   "outputs": [
    {
     "name": "stdout",
     "output_type": "stream",
     "text": [
      "1 bredasdorp\n",
      "2 mashhad\n",
      "3 ushuaia\n",
      "4 hermanus\n",
      "5 narsaq\n",
      "not city data\n",
      "6 barentsburg\n",
      "7 cape town\n",
      "8 ribeira grande\n",
      "9 quatre cocos\n",
      "10 sao joao da barra\n",
      "not city data\n",
      "11 illoqqortoormiut\n",
      "13 port elizabeth\n",
      "14 sao filipe\n",
      "16 klaksvik\n",
      "17 viedma\n",
      "19 cidreira\n",
      "23 samus\n",
      "not city data\n",
      "24 karkaralinsk\n",
      "25 dikson\n",
      "27 hamilton\n",
      "30 port alfred\n",
      "not city data\n",
      "32 amderma\n",
      "33 victoria\n",
      "34 longyearbyen\n",
      "37 kulhudhuffushi\n",
      "38 qaanaaq\n",
      "39 albany\n",
      "45 boyabat\n",
      "47 marawi\n",
      "49 ayna\n",
      "50 bonthe\n",
      "51 margate\n",
      "not city data\n",
      "57 marcona\n",
      "58 sinnamary\n",
      "59 vallenar\n",
      "61 kamenka\n",
      "not city data\n",
      "62 glubokoe\n",
      "64 kavaratti\n",
      "69 lebu\n",
      "70 soyo\n",
      "76 shieli\n",
      "not city data\n",
      "82 taolanaro\n",
      "84 kasempa\n",
      "87 lagoa\n",
      "89 gewane\n",
      "not city data\n",
      "97 grand river south east\n",
      "101 chuy\n",
      "102 salalah\n",
      "104 black river\n",
      "not city data\n",
      "106 blonduos\n",
      "108 jamestown\n",
      "111 upernavik\n",
      "115 vila velha\n",
      "116 iqaluit\n",
      "120 benjamin constant\n",
      "121 okahandja\n",
      "129 saint-philippe\n",
      "130 arona\n",
      "131 veraval\n",
      "133 utiel\n",
      "135 bathsheba\n",
      "138 vardo\n",
      "139 nalut\n",
      "144 sheopur\n",
      "147 normandin\n",
      "not city data\n",
      "150 sopot\n",
      "152 busselton\n",
      "not city data\n",
      "154 belushya guba\n",
      "155 punta arenas\n",
      "156 laguna\n",
      "158 torbay\n",
      "163 adrar\n",
      "165 visaginas\n",
      "167 plettenberg bay\n",
      "173 vestmanna\n",
      "177 codrington\n",
      "178 saint-augustin\n",
      "183 mehamn\n",
      "200 clyde river\n",
      "201 pangnirtung\n",
      "206 gaziantep\n",
      "208 namibe\n",
      "210 sorland\n",
      "213 east london\n",
      "214 santiago del estero\n",
      "218 bonavista\n",
      "223 carauari\n",
      "227 hithadhoo\n",
      "228 peniche\n",
      "234 oistins\n",
      "237 havelock\n",
      "238 amargosa\n",
      "241 ercis\n",
      "not city data\n",
      "245 attawapiskat\n",
      "246 hobyo\n",
      "247 tiznit\n",
      "252 sisimiut\n",
      "265 mercedes\n",
      "266 henties bay\n",
      "267 magnor\n",
      "268 paamiut\n",
      "not city data\n",
      "269 bengkulu\n",
      "271 sumbe\n",
      "277 opaka\n",
      "281 lakhtar\n",
      "289 mar del plata\n",
      "292 pontes e lacerda\n",
      "297 tasiilaq\n",
      "not city data\n",
      "299 sakakah\n",
      "not city data\n",
      "300 hunza\n",
      "301 mangrol\n",
      "303 bereznik\n",
      "319 genc\n",
      "320 cururupu\n",
      "330 kalmunai\n",
      "332 ponta do sol\n",
      "334 the valley\n",
      "341 coquimbo\n",
      "349 bambous virieux\n",
      "351 souillac\n",
      "357 gari\n",
      "378 figline valdarno\n",
      "389 aswan\n",
      "392 vila franca do campo\n",
      "393 manaus\n",
      "396 camacha\n",
      "413 qaqortoq\n",
      "414 iisalmi\n",
      "416 mpanda\n",
      "418 iracoubo\n",
      "420 cockburn town\n",
      "422 katima mulilo\n",
      "423 berlevag\n",
      "427 churhat\n",
      "434 melilla\n",
      "435 kyabe\n",
      "436 rapar\n",
      "not city data\n",
      "439 tsihombe\n",
      "not city data\n",
      "441 formoso do araguaia\n",
      "443 gadsden\n",
      "446 cabedelo\n",
      "447 itarema\n",
      "452 gao\n",
      "455 alta floresta\n",
      "not city data\n",
      "457 bolungarvik\n",
      "463 opuwo\n",
      "470 joao pinheiro\n",
      "471 castro\n",
      "not city data\n",
      "475 tumannyy\n",
      "487 bafq\n",
      "496 saldanha\n",
      "505 atar\n",
      "513 husavik\n",
      "not city data\n",
      "517 abu jubayhah\n",
      "525 araouane\n",
      "527 mahebourg\n",
      "535 yar-sale\n",
      "536 jacareacanga\n",
      "539 mahibadhoo\n",
      "543 oranjemund\n",
      "545 nouadhibou\n",
      "546 siguiri\n"
     ]
    }
   ],
   "source": [
    "lat=[]\n",
    "long=[]\n",
    "city_names=[]\n",
    "city_counter = 0\n",
    "temp = []\n",
    "latitude =[]\n",
    "humidity =[]\n",
    "cloudiness = []\n",
    "wind_speed = []\n",
    "\n",
    "#cities_pd[\"temp\"] = \"\"\n",
    "#creatins a random lat and lon\n",
    "x, y = uniform(-180,180), uniform(-90, 90)\n",
    "y\n",
    "\n",
    "#collect 500+ cities across the world of varying distance from the equator\n",
    "data_range = np.arange(1,550,1)\n",
    "data_range\n",
    "\n",
    "# Create settings dictionary with information we're interested in\n",
    "settings = {\"units\": \"Imperial\", \"appid\": key}\n",
    "\n",
    "#\n",
    "\n",
    "for data in data_range:\n",
    "    \n",
    "    #counting the number of selected cities\n",
    "    city_counter = city_counter + 1\n",
    "    #creating random list of lat\n",
    "    x = uniform(-180,180)\n",
    "    \n",
    "    #creaing random list of long\n",
    "    y = uniform(-90, 90)\n",
    "    \n",
    "    #finding nearest city to the random corrdinate\n",
    "    city = citipy.nearest_city(x, y)\n",
    "    \n",
    "    #finding the city name from nearest city from above \n",
    "    city_name=city.city_name\n",
    "    if city_name in city_names:\n",
    "        continue\n",
    "    \n",
    "    lat.append(x)\n",
    "    long.append(y)\n",
    "    city_names.append(city_name)\n",
    "    \n",
    "    \n",
    "    #api for current weather for selected random city\n",
    "    #current_weather = owm.get_current(city_name, **settings)\n",
    "    \n",
    "    try:\n",
    "        current_weather = owm.get_current(city_name, **settings) \n",
    "    except:\n",
    "        print(\"not city data\")\n",
    "        \n",
    "    #print(current_weather)\n",
    "    print(str(city_counter) +\" \" +str(city_name))\n",
    "    #print(city_counter)\n",
    "    \n",
    "    #getting temp,latitute,humdity,cloudiness, wind spped\n",
    "    temp.append(current_weather[\"main\"][\"temp\"])\n",
    "    humidity.append(current_weather[\"main\"][\"humidity\"])\n",
    "    cloudiness.append(current_weather[\"clouds\"][\"all\"])\n",
    "    wind_speed.append(current_weather[\"wind\"][\"speed\"])\n",
    "    latitude.append(current_weather[\"coord\"][\"lat\"])\n",
    "    \n",
    "    #cities_pd.set_value(index,\"temp\",)\n",
    "    \n",
    "    \n",
    "    #summary = [\"name\", \"main.temp\"]\n",
    "    #data = current_weather(*summary)\n",
    "    #print(data)\n",
    "                                            "
   ]
  },
  {
   "cell_type": "code",
   "execution_count": 35,
   "metadata": {},
   "outputs": [
    {
     "name": "stdout",
     "output_type": "stream",
     "text": [
      "{\n",
      "    \"base\": \"stations\",\n",
      "    \"clouds\": {\n",
      "        \"all\": 0\n",
      "    },\n",
      "    \"cod\": 200,\n",
      "    \"coord\": {\n",
      "        \"lat\": 11.42,\n",
      "        \"lon\": -9.17\n",
      "    },\n",
      "    \"dt\": 1520786487,\n",
      "    \"id\": 2415703,\n",
      "    \"main\": {\n",
      "        \"grnd_level\": 976.92,\n",
      "        \"humidity\": 17,\n",
      "        \"pressure\": 976.92,\n",
      "        \"sea_level\": 1019.3,\n",
      "        \"temp\": 98.92,\n",
      "        \"temp_max\": 98.92,\n",
      "        \"temp_min\": 98.92\n",
      "    },\n",
      "    \"name\": \"Siguiri\",\n",
      "    \"sys\": {\n",
      "        \"country\": \"GN\",\n",
      "        \"message\": 0.0034,\n",
      "        \"sunrise\": 1520750755,\n",
      "        \"sunset\": 1520794032\n",
      "    },\n",
      "    \"weather\": [\n",
      "        {\n",
      "            \"description\": \"clear sky\",\n",
      "            \"icon\": \"01d\",\n",
      "            \"id\": 800,\n",
      "            \"main\": \"Clear\"\n",
      "        }\n",
      "    ],\n",
      "    \"wind\": {\n",
      "        \"deg\": 80.0008,\n",
      "        \"speed\": 10.56\n",
      "    }\n",
      "}\n"
     ]
    }
   ],
   "source": [
    "print(json.dumps(current_weather, indent=4, sort_keys=True))"
   ]
  },
  {
   "cell_type": "code",
   "execution_count": 36,
   "metadata": {},
   "outputs": [
    {
     "data": {
      "text/plain": [
       "10.56"
      ]
     },
     "execution_count": 36,
     "metadata": {},
     "output_type": "execute_result"
    }
   ],
   "source": [
    "temp_test=current_weather[\"wind\"][\"speed\"]\n",
    "temp_test\n"
   ]
  },
  {
   "cell_type": "code",
   "execution_count": 37,
   "metadata": {},
   "outputs": [
    {
     "data": {
      "text/plain": [
       "162"
      ]
     },
     "execution_count": 37,
     "metadata": {},
     "output_type": "execute_result"
    }
   ],
   "source": [
    "len(wind_speed)"
   ]
  },
  {
   "cell_type": "code",
   "execution_count": 38,
   "metadata": {},
   "outputs": [
    {
     "data": {
      "text/plain": [
       "162"
      ]
     },
     "execution_count": 38,
     "metadata": {},
     "output_type": "execute_result"
    }
   ],
   "source": [
    "# create dataframe with data from all the cities\n",
    "weather_dict = {\n",
    "    \"City Name\":city_names,\n",
    "    \"Temperature\": temp,\n",
    "    \"humidity\": humidity,\n",
    "    \"latitude\": latitude,\n",
    "    \"cloudiness\":cloudiness,\n",
    "    \"wind speed\":wind_speed\n",
    "} \n",
    "weather_dict\n",
    "weather_df = pd.DataFrame(weather_dict)\n",
    "len(weather_df)"
   ]
  },
  {
   "cell_type": "code",
   "execution_count": 40,
   "metadata": {},
   "outputs": [
    {
     "data": {
      "image/png": "[encoded data removed]",
      "text/plain": [
       "<matplotlib.figure.Figure at 0x1122fa748>"
      ]
     },
     "metadata": {},
     "output_type": "display_data"
    }
   ],
   "source": [
    "# Build a scatter plot for Temperature vs Latitude \n",
    "plt.scatter(weather_df[\"latitude\"], weather_df[\"Temperature\"], marker=\"o\")\n",
    "\n",
    "# Incorporate the other graph properties\n",
    "plt.title(\"City Latitude vs Temperature (F) (3.11.18)\")\n",
    "plt.xlabel(\"Latitude\")\n",
    "plt.ylabel(\"Temperature (F)\")\n",
    "plt.grid(True)\n",
    "\n",
    "# Save the figure\n",
    "#plt.savefig(\"City Latitude vs Temperature (F) (3.11.18)\")\n",
    "\n",
    "# Show plot\n",
    "plt.show() "
   ]
  },
  {
   "cell_type": "code",
   "execution_count": 41,
   "metadata": {},
   "outputs": [
    {
     "data": {
      "image/png": "[encoded data removed]",
      "text/plain": [
       "<matplotlib.figure.Figure at 0x1123a46a0>"
      ]
     },
     "metadata": {},
     "output_type": "display_data"
    }
   ],
   "source": [
    "# Build a scatter plot for Humidity vs Latitude \n",
    "plt.scatter(weather_dict[\"latitude\"], weather_dict[\"humidity\"], marker=\"o\")\n",
    "\n",
    "# Incorporate the other graph properties\n",
    "plt.title(\"City Latitude vs Humidity (3.11.18)\")\n",
    "plt.xlabel(\"Latitude\")\n",
    "plt.ylabel(\"Humidity\")\n",
    "plt.grid(True)\n",
    "\n",
    "# Save the figure\n",
    "#plt.savefig(\"City Latitude vs Humidity (3.11.18).png\")\n",
    "\n",
    "# Show plot\n",
    "plt.show()"
   ]
  },
  {
   "cell_type": "code",
   "execution_count": null,
   "metadata": {
    "collapsed": true
   },
   "outputs": [],
   "source": [
    "# Build a scatter plot for Cloudiness vs Latitude \n",
    "plt.scatter(weather_dict[\"latitude\"], weather_dict[\"cloudiness\"], marker=\"o\")\n",
    "\n",
    "# Incorporate the other graph properties\n",
    "plt.title(\"City Latitude vs Cloudiness (3.11.18)\")\n",
    "plt.xlabel(\"Latitude\")\n",
    "plt.ylabel(\"Cloudiness\")\n",
    "plt.grid(True)\n",
    "\n",
    "# Save the figure\n",
    "#plt.savefig(\"City Latitude vs Cloudiness (3.11.18).png\")\n",
    "\n",
    "# Show plot\n",
    "plt.show() "
   ]
  },
  {
   "cell_type": "code",
   "execution_count": 42,
   "metadata": {},
   "outputs": [
    {
     "data": {
      "image/png": "[encoded data removed]",
      "text/plain": [
       "<matplotlib.figure.Figure at 0x112487358>"
      ]
     },
     "metadata": {},
     "output_type": "display_data"
    }
   ],
   "source": [
    "# Build a scatter plot for Cloudiness vs Latitude \n",
    "plt.scatter(weather_dict[\"latitude\"], weather_dict[\"wind speed\"], marker=\"o\")\n",
    "\n",
    "# Incorporate the other graph properties\n",
    "plt.title(\"City Latitude vs Wind Speed (mph) (3.11.18)\")\n",
    "plt.xlabel(\"Latitude\")\n",
    "plt.ylabel(\"Wind Speed\")\n",
    "plt.grid(True)\n",
    "\n",
    "# Save the figure\n",
    "#plt.savefig(\"TemperatureInWorldCities.png\")\n",
    "\n",
    "# Show plot\n",
    "plt.show() "
   ]
  },
  {
   "cell_type": "code",
   "execution_count": null,
   "metadata": {
    "collapsed": true
   },
   "outputs": [],
   "source": [
    "#questions:\n",
    "#1.All the information from the cities is not being added to the lists"
   ]
  }
 ],
 "metadata": {
  "kernelspec": {
   "display_name": "Python 3",
   "language": "python",
   "name": "python3"
  },
  "language_info": {
   "codemirror_mode": {
    "name": "ipython",
    "version": 3
   },
   "file_extension": ".py",
   "mimetype": "text/x-python",
   "name": "python",
   "nbconvert_exporter": "python",
   "pygments_lexer": "ipython3",
   "version": "3.6.3"
  }
 },
 "nbformat": 4,
 "nbformat_minor": 2
}
