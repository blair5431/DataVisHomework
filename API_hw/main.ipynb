{
 "cells": [
  {
   "cell_type": "code",
   "execution_count": 1,
   "metadata": {
    "collapsed": true
   },
   "outputs": [],
   "source": [
    "# Dependencies\n",
    "import numpy as np\n",
    "import pandas as pd\n",
    "import matplotlib.pyplot as plt\n",
    "import requests\n",
    "import time\n",
    "import json\n",
    "import openweathermapy.core as owm\n",
    "from citipy import citipy\n",
    "from random import uniform\n",
    "\n",
    "# Google Places API Key from config\n",
    "from config import key"
   ]
  },
  {
   "cell_type": "code",
   "execution_count": 2,
   "metadata": {
    "collapsed": true
   },
   "outputs": [],
   "source": [
    "#collect 500+ cities across the world of varying distance from the equator\n",
    "#Perform a weather check on each of the cities using a series of successive API calls.\n",
    "#Include a print log of each city as it's being processed with the city number, city name, and requested URL.\n",
    "#Get Temp Latitude, humidity,cloudiness, wind speed (mph) from api\n",
    "#Create scatter plots"
   ]
  },
  {
   "cell_type": "code",
   "execution_count": null,
   "metadata": {},
   "outputs": [],
   "source": [
    "#create random list of lat and long\n",
    "#use citipy to find the nearest city to lat and long\n",
    "#get api for each city from open weather mapy\n",
    "city = citipy.nearest_city(0.00, 0.00)\n",
    "city\n",
    "city.city_name"
   ]
  },
  {
   "cell_type": "code",
   "execution_count": 16,
   "metadata": {},
   "outputs": [
    {
     "name": "stdout",
     "output_type": "stream",
     "text": [
      "not city data\n",
      "1 illoqqortoormiut\n",
      "2 busselton\n",
      "3 longyearbyen\n",
      "4 aviles\n",
      "5 cururupu\n",
      "6 ushuaia\n",
      "8 mosetse\n",
      "9 bathsheba\n",
      "11 hermanus\n",
      "12 shakawe\n",
      "13 qaanaaq\n",
      "15 calvinia\n",
      "18 ratnagiri\n",
      "19 corn island\n"
     ]
    }
   ],
   "source": [
    "lat=[]\n",
    "long=[]\n",
    "city_names=[]\n",
    "city_counter = 0\n",
    "temp = []\n",
    "latitude =[]\n",
    "humidity =[]\n",
    "cloudiness = []\n",
    "wind_speed = []\n",
    "\n",
    "#cities_pd[\"temp\"] = \"\"\n",
    "#creatins a random lat and lon\n",
    "x, y = uniform(-180,180), uniform(-90, 90)\n",
    "y\n",
    "\n",
    "#collect 500+ cities across the world of varying distance from the equator\n",
    "data_range = np.arange(1,20,1)\n",
    "data_range\n",
    "\n",
    "# Create settings dictionary with information we're interested in\n",
    "settings = {\"units\": \"metric\", \"appid\": key}\n",
    "\n",
    "#\n",
    "\n",
    "for data in data_range:\n",
    "    \n",
    "    #counting the number of selected cities\n",
    "    city_counter = city_counter + 1\n",
    "    #creating random list of lat\n",
    "    x = uniform(-180,180)\n",
    "    \n",
    "    #creaing random list of long\n",
    "    y = uniform(-90, 90)\n",
    "    \n",
    "    #finding nearest city to the random corrdinate\n",
    "    city = citipy.nearest_city(x, y)\n",
    "    \n",
    "    #finding the city name from nearest city from above \n",
    "    city_name=city.city_name\n",
    "    if city_name in city_names:\n",
    "        continue\n",
    "    \n",
    "    lat.append(x)\n",
    "    long.append(y)\n",
    "    city_names.append(city_name)\n",
    "    \n",
    "    \n",
    "    #api for current weather for selected random city\n",
    "    #current_weather = owm.get_current(city_name, **settings)\n",
    "    \n",
    "    try:\n",
    "        current_weather = owm.get_current(city_name, **settings) \n",
    "    except:\n",
    "        print(\"not city data\")\n",
    "        \n",
    "    #print(current_weather)\n",
    "    print(str(city_counter) +\" \" +str(city_name))\n",
    "    #print(city_counter)\n",
    "    \n",
    "    #getting temp,latitute,humdity,cloudiness, wind spped\n",
    "    temp.append(current_weather[\"main\"][\"temp\"])\n",
    "    humidity.append(current_weather[\"main\"][\"humidity\"])\n",
    "    cloudiness.append(current_weather[\"clouds\"][\"all\"])\n",
    "    wind_speed.append(current_weather[\"wind\"][\"speed\"])\n",
    "    latitude.append(current_weather[\"coord\"][\"lat\"])\n",
    "    \n",
    "    #cities_pd.set_value(index,\"temp\",)\n",
    "    \n",
    "    \n",
    "    #summary = [\"name\", \"main.temp\"]\n",
    "    #data = current_weather(*summary)\n",
    "    #print(data)\n",
    "                                                "
   ]
  },
  {
   "cell_type": "code",
   "execution_count": null,
   "metadata": {},
   "outputs": [],
   "source": [
    "print(json.dumps(current_weather, indent=4, sort_keys=True))"
   ]
  },
  {
   "cell_type": "code",
   "execution_count": null,
   "metadata": {},
   "outputs": [],
   "source": [
    "temp_test=current_weather[\"wind\"][\"speed\"]\n",
    "temp_test\n"
   ]
  },
  {
   "cell_type": "code",
   "execution_count": 15,
   "metadata": {},
   "outputs": [
    {
     "data": {
      "text/plain": [
       "{'base': 'stations',\n",
       " 'clouds': {'all': 0},\n",
       " 'cod': 200,\n",
       " 'coord': {'lat': -33.21, 'lon': 138.6},\n",
       " 'dt': 1520695292,\n",
       " 'id': 2069194,\n",
       " 'main': {'grnd_level': 978.07,\n",
       "  'humidity': 79,\n",
       "  'pressure': 978.07,\n",
       "  'sea_level': 1036,\n",
       "  'temp': 14.51,\n",
       "  'temp_max': 14.51,\n",
       "  'temp_min': 14.51},\n",
       " 'name': 'Jamestown',\n",
       " 'sys': {'country': 'AU',\n",
       "  'message': 0.0052,\n",
       "  'sunrise': 1520628079,\n",
       "  'sunset': 1520672982},\n",
       " 'weather': [{'description': 'clear sky',\n",
       "   'icon': '01n',\n",
       "   'id': 800,\n",
       "   'main': 'Clear'}],\n",
       " 'wind': {'deg': 121.006, 'speed': 1.21}}"
      ]
     },
     "execution_count": 15,
     "metadata": {},
     "output_type": "execute_result"
    }
   ],
   "source": [
    "current_weather"
   ]
  },
  {
   "cell_type": "code",
   "execution_count": 12,
   "metadata": {},
   "outputs": [
    {
     "data": {
      "text/plain": [
       "{'City Name': ['caxito',\n",
       "  'ushuaia',\n",
       "  'bredasdorp',\n",
       "  'morrope',\n",
       "  'karasburg',\n",
       "  'port alfred',\n",
       "  'henties bay',\n",
       "  'guaruja',\n",
       "  'meulaboh',\n",
       "  'atlantic beach',\n",
       "  'jamestown',\n",
       "  'illoqqortoormiut'],\n",
       " 'Temperature': [29.71,\n",
       "  11,\n",
       "  25,\n",
       "  24,\n",
       "  26.46,\n",
       "  22.71,\n",
       "  19.71,\n",
       "  26.68,\n",
       "  26.91,\n",
       "  17.2,\n",
       "  14.51,\n",
       "  14.51],\n",
       " 'cloudiness': [40, 40, 0, 20, 92, 76, 0, 75, 68, 1, 0, 0],\n",
       " 'humidity': [66, 29, 44, 73, 12, 77, 87, 65, 100, 42, 79, 79],\n",
       " 'latitude': [-22.65,\n",
       "  -54.81,\n",
       "  -34.53,\n",
       "  -6.54,\n",
       "  -28.01,\n",
       "  -33.59,\n",
       "  -22.12,\n",
       "  -23.99,\n",
       "  4.14,\n",
       "  30.33,\n",
       "  -33.21,\n",
       "  -33.21],\n",
       " 'wind speed': [4.1,\n",
       "  9.3,\n",
       "  4.6,\n",
       "  6.7,\n",
       "  4.21,\n",
       "  3.81,\n",
       "  3.56,\n",
       "  1.5,\n",
       "  2.91,\n",
       "  1.5,\n",
       "  1.21,\n",
       "  1.21]}"
      ]
     },
     "execution_count": 12,
     "metadata": {},
     "output_type": "execute_result"
    }
   ],
   "source": [
    "# create dataframe with data from all the cities\n",
    "weather_dict = {\n",
    "    \"City Name\":city_names,\n",
    "    \"Temperature\": temp,\n",
    "    \"humidity\": humidity,\n",
    "    \"latitude\": latitude,\n",
    "    \"cloudiness\":cloudiness,\n",
    "    \"wind speed\":wind_speed\n",
    "} \n",
    "weather_dict"
   ]
  },
  {
   "cell_type": "code",
   "execution_count": null,
   "metadata": {},
   "outputs": [],
   "source": [
    "# Build a scatter plot for Temperature vs Latitude \n",
    "plt.scatter(weather_dict[\"Temperature\"], weather_dict[\"latitude\"], marker=\"o\")\n",
    "\n",
    "# Incorporate the other graph properties\n",
    "plt.title(\"Temperature vs Latitude\")\n",
    "plt.ylabel(\"Latitude\")\n",
    "plt.xlabel(\"Temperature\")\n",
    "plt.grid(True)\n",
    "\n",
    "# Save the figure\n",
    "#plt.savefig(\"TemperatureInWorldCities.png\")\n",
    "\n",
    "# Show plot\n",
    "plt.show()"
   ]
  },
  {
   "cell_type": "code",
   "execution_count": null,
   "metadata": {},
   "outputs": [],
   "source": [
    "# Build a scatter plot for Humidity vs Latitude \n",
    "plt.scatter(weather_dict[\"humidity\"], weather_dict[\"latitude\"], marker=\"o\")\n",
    "\n",
    "# Incorporate the other graph properties\n",
    "plt.title(\"Humidity vs Latitude\")\n",
    "plt.ylabel(\"Latitude\")\n",
    "plt.xlabel(\"Humidity\")\n",
    "plt.grid(True)\n",
    "\n",
    "# Save the figure\n",
    "#plt.savefig(\"TemperatureInWorldCities.png\")\n",
    "\n",
    "# Show plot\n",
    "plt.show()"
   ]
  },
  {
   "cell_type": "code",
   "execution_count": null,
   "metadata": {},
   "outputs": [],
   "source": [
    "# Build a scatter plot for Cloudiness vs Latitude \n",
    "plt.scatter(weather_dict[\"cloudiness\"], weather_dict[\"latitude\"], marker=\"o\")\n",
    "\n",
    "# Incorporate the other graph properties\n",
    "plt.title(\"Cloudiness vs Latitude\")\n",
    "plt.ylabel(\"Latitude\")\n",
    "plt.xlabel(\"Cloudiness\")\n",
    "plt.grid(True)\n",
    "\n",
    "# Save the figure\n",
    "#plt.savefig(\"TemperatureInWorldCities.png\")\n",
    "\n",
    "# Show plot\n",
    "plt.show()"
   ]
  },
  {
   "cell_type": "code",
   "execution_count": null,
   "metadata": {},
   "outputs": [],
   "source": [
    "# Build a scatter plot for Cloudiness vs Latitude \n",
    "plt.scatter(weather_dict[\"wind speed\"], weather_dict[\"latitude\"], marker=\"o\")\n",
    "\n",
    "# Incorporate the other graph properties\n",
    "plt.title(\"Wind Speed vs Latitude\")\n",
    "plt.ylabel(\"Latitude\")\n",
    "plt.xlabel(\"Wind Speed\")\n",
    "plt.grid(True)\n",
    "\n",
    "# Save the figure\n",
    "#plt.savefig(\"TemperatureInWorldCities.png\")\n",
    "\n",
    "# Show plot\n",
    "plt.show()"
   ]
  },
  {
   "cell_type": "code",
   "execution_count": null,
   "metadata": {
    "collapsed": true
   },
   "outputs": [],
   "source": [
    "#questions:\n",
    "#1.How to ensure that I am not getting the same city more than once?\n",
    "#2.How to print url while using wrapper?\n",
    "#3.Issue with try execpt block --> doesnt keep going past error"
   ]
  }
 ],
 "metadata": {
  "kernelspec": {
   "display_name": "Python 3",
   "language": "python",
   "name": "python3"
  },
  "language_info": {
   "codemirror_mode": {
    "name": "ipython",
    "version": 3
   },
   "file_extension": ".py",
   "mimetype": "text/x-python",
   "name": "python",
   "nbconvert_exporter": "python",
   "pygments_lexer": "ipython3",
   "version": "3.6.3"
  }
 },
 "nbformat": 4,
 "nbformat_minor": 2
}
